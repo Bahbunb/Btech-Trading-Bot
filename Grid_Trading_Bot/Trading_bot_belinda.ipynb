{
 "cells": [
  {
   "cell_type": "markdown",
   "metadata": {},
   "source": [
    "# Initial Code for CCXT "
   ]
  },
  {
   "cell_type": "code",
   "execution_count": 1,
   "metadata": {},
   "outputs": [
    {
     "name": "stderr",
     "output_type": "stream",
     "text": [
      "/Users/belinda/Library/Python/3.9/lib/python/site-packages/urllib3/__init__.py:35: NotOpenSSLWarning: urllib3 v2 only supports OpenSSL 1.1.1+, currently the 'ssl' module is compiled with 'LibreSSL 2.8.3'. See: https://github.com/urllib3/urllib3/issues/3020\n",
      "  warnings.warn(\n"
     ]
    }
   ],
   "source": [
    "import ccxt\n",
    "\n"
   ]
  },
  {
   "cell_type": "code",
   "execution_count": 2,
   "metadata": {},
   "outputs": [],
   "source": [
    "#import ccxt\n",
    "\n",
    "# Initialize the exchange (e.g., Binance)\n",
    "#exchange = ccxt.binance()\n",
    "\n",
    "# Fetch ticker data for BTC/USDT\n",
    "#ticker = exchange.fetch_ticker('BTC/USDT')\n",
    "#print(ticker)\n"
   ]
  },
  {
   "cell_type": "markdown",
   "metadata": {},
   "source": [
    "# Getting Data from Binance for BTC"
   ]
  },
  {
   "cell_type": "code",
   "execution_count": 3,
   "metadata": {},
   "outputs": [],
   "source": [
    "\n",
    "\n",
    "# Use your Binance API credentials\n",
    "exchange = ccxt.binance({\n",
    "    'apiKey': 'rKI3q7RZSOwaKmtEdpJr8gzW2ck32ZXVAUWhwajXU88pHlrm0cnKqyHWy2n2gbRJ',\n",
    "    'secret': 'RfA74xF2DloTmJcHSVsIMnpk7YbHhfI4iV1SVv8NIR1pHf1rnCl8n14hfNSWXTiu',\n",
    "    'options': {'defaultType': 'future'}  # Ensure futures trading mode\n",
    "})\n",
    "\n",
    "# Fetch the order book for a symbol (e.g., 'BTC/USDT')\n",
    "order_book = exchange.fetch_order_book('BTC/USDT')\n",
    "\n",
    "\n",
    "\n"
   ]
  },
  {
   "cell_type": "markdown",
   "metadata": {},
   "source": [
    "# Creating the Parameters for the Bot"
   ]
  },
  {
   "cell_type": "code",
   "execution_count": 4,
   "metadata": {},
   "outputs": [],
   "source": [
    "# Grid Trading Parameters\n",
    "symbol = 'BTC/USDT'  # Trading pair\n",
    "grid_levels = 10  # Number of grid orders\n",
    "grid_spacing = 50  # Price gap between grid orders\n",
    "order_size = 0.01  # Order size in BTC\n",
    "leverage = 10  # Leverage multiplier\n"
   ]
  },
  {
   "cell_type": "code",
   "execution_count": 5,
   "metadata": {},
   "outputs": [
    {
     "data": {
      "text/plain": [
       "{'symbol': 'BTCUSDT', 'leverage': '10', 'maxNotionalValue': '230000000'}"
      ]
     },
     "execution_count": 5,
     "metadata": {},
     "output_type": "execute_result"
    }
   ],
   "source": [
    "# Set leverage properly\n",
    "exchange.set_leverage(leverage, symbol)"
   ]
  },
  {
   "cell_type": "code",
   "execution_count": 6,
   "metadata": {},
   "outputs": [],
   "source": [
    "# Get initial price\n",
    "price_data = exchange.fetch_ticker(symbol)\n",
    "initial_price = price_data['last']\n",
    "\n",
    "# Generate grid price levels\n",
    "grid_prices = [initial_price + (i - grid_levels // 2) * grid_spacing for i in range(grid_levels)]\n"
   ]
  },
  {
   "cell_type": "code",
   "execution_count": 9,
   "metadata": {},
   "outputs": [
    {
     "name": "stdout",
     "output_type": "stream",
     "text": [
      "✅ Binance data downloaded and saved as 'binance_data.csv'\n"
     ]
    }
   ],
   "source": [
    "import ccxt\n",
    "import pandas as pd\n",
    "\n",
    "# Initialize Binance exchange (without API keys for public data)\n",
    "exchange = ccxt.binance()\n",
    "\n",
    "# Fetch historical data (Example: BTC/USDT, 1-minute timeframe)\n",
    "bars = exchange.fetch_ohlcv('BTC/USDT', timeframe='1m', limit=500)\n",
    "\n",
    "# Convert to DataFrame\n",
    "df = pd.DataFrame(bars, columns=['timestamp', 'open', 'high', 'low', 'close', 'volume'])\n",
    "\n",
    "# Convert timestamp to readable date\n",
    "df['timestamp'] = pd.to_datetime(df['timestamp'], unit='ms')\n",
    "\n",
    "# Save to CSV file\n",
    "df.to_csv('binance_data.csv', index=False)\n",
    "\n",
    "print(\"✅ Binance data downloaded and saved as 'binance_data.csv'\")\n"
   ]
  },
  {
   "cell_type": "code",
   "execution_count": 11,
   "metadata": {},
   "outputs": [
    {
     "name": "stdout",
     "output_type": "stream",
     "text": [
      "Columns in CSV: Index(['timestamp', 'open', 'high', 'low', 'close', 'volume'], dtype='object')\n"
     ]
    },
    {
     "data": {
      "text/plain": [
       "<function print>"
      ]
     },
     "execution_count": 11,
     "metadata": {},
     "output_type": "execute_result"
    }
   ],
   "source": [
    "\n",
    "df = pd.read_csv(\"binance_data.csv\")\n",
    "\n",
    "# Print column names\n",
    "print(\"Columns in CSV:\", df.columns)\n",
    "\n",
    "# Show first few rows\n",
    "print"
   ]
  },
  {
   "cell_type": "code",
   "execution_count": 12,
   "metadata": {},
   "outputs": [],
   "source": [
    "import pandas as pd\n",
    "\n",
    "# Load historical data (CSV from Binance)\n",
    "df = pd.read_csv('binance_data.csv')\n",
    "df['time'] = pd.to_datetime(df['timestamp'])\n",
    "df.set_index('time', inplace=True)\n",
    "\n",
    "# Set grid prices (Example)\n",
    "grid_prices = [38000, 38500, 39000, 39500, 40000]\n",
    "\n",
    "# Simulate buying and selling at grid levels\n",
    "for index, row in df.iterrows():\n",
    "    price = row['close']\n",
    "    \n",
    "    if price in grid_prices:\n",
    "        print(f\"Trade executed at {price} on {index}\")\n",
    "\n"
   ]
  },
  {
   "cell_type": "code",
   "execution_count": null,
   "metadata": {},
   "outputs": [],
   "source": []
  }
 ],
 "metadata": {
  "kernelspec": {
   "display_name": "Python 3",
   "language": "python",
   "name": "python3"
  },
  "language_info": {
   "codemirror_mode": {
    "name": "ipython",
    "version": 3
   },
   "file_extension": ".py",
   "mimetype": "text/x-python",
   "name": "python",
   "nbconvert_exporter": "python",
   "pygments_lexer": "ipython3",
   "version": "3.9.6"
  }
 },
 "nbformat": 4,
 "nbformat_minor": 2
}
