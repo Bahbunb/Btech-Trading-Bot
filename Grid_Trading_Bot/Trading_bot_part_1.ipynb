{
 "cells": [
  {
   "cell_type": "markdown",
   "metadata": {},
   "source": [
    "# Initial Code for CCXT "
   ]
  },
  {
   "cell_type": "code",
   "execution_count": 1,
   "metadata": {},
   "outputs": [
    {
     "name": "stderr",
     "output_type": "stream",
     "text": [
      "/Users/belinda/Library/Python/3.9/lib/python/site-packages/urllib3/__init__.py:35: NotOpenSSLWarning: urllib3 v2 only supports OpenSSL 1.1.1+, currently the 'ssl' module is compiled with 'LibreSSL 2.8.3'. See: https://github.com/urllib3/urllib3/issues/3020\n",
      "  warnings.warn(\n"
     ]
    }
   ],
   "source": [
    "import ccxt\n",
    "\n"
   ]
  },
  {
   "cell_type": "code",
   "execution_count": 2,
   "metadata": {},
   "outputs": [],
   "source": [
    "#import ccxt\n",
    "\n",
    "# Initialize the exchange (e.g., Binance)\n",
    "#exchange = ccxt.binance()\n",
    "\n",
    "# Fetch ticker data for BTC/USDT\n",
    "#ticker = exchange.fetch_ticker('BTC/USDT')\n",
    "#print(ticker)\n"
   ]
  },
  {
   "cell_type": "markdown",
   "metadata": {},
   "source": [
    "# Getting Data from Binance for BTC"
   ]
  },
  {
   "cell_type": "code",
   "execution_count": 3,
   "metadata": {},
   "outputs": [],
   "source": [
    "\n",
    "\n",
    "# Use your Binance API credentials\n",
    "exchange = ccxt.binance({\n",
    "    'apiKey': 'rKI3q7RZSOwaKmtEdpJr8gzW2ck32ZXVAUWhwajXU88pHlrm0cnKqyHWy2n2gbRJ',\n",
    "    'secret': 'RfA74xF2DloTmJcHSVsIMnpk7YbHhfI4iV1SVv8NIR1pHf1rnCl8n14hfNSWXTiu',\n",
    "    'options': {'defaultType': 'future'}  # Ensure futures trading mode\n",
    "})\n",
    "\n",
    "# Fetch the order book for a symbol (e.g., 'BTC/USDT')\n",
    "order_book = exchange.fetch_order_book('BTC/USDT')\n",
    "\n",
    "\n",
    "\n"
   ]
  },
  {
   "cell_type": "markdown",
   "metadata": {},
   "source": [
    "# Creating the Parameters for the Bot"
   ]
  },
  {
   "cell_type": "code",
   "execution_count": 4,
   "metadata": {},
   "outputs": [],
   "source": [
    "# Grid Trading Parameters\n",
    "symbol = 'BTC/USDT'  # Trading pair\n",
    "grid_levels = 10  # Number of grid orders\n",
    "grid_spacing = 50  # Price gap between grid orders\n",
    "order_size = 0.01  # Order size in BTC\n",
    "# leverage = 10  # Leverage multiplier\n"
   ]
  },
  {
   "cell_type": "code",
   "execution_count": 5,
   "metadata": {},
   "outputs": [
    {
     "data": {
      "text/plain": [
       "{'symbol': 'BTCUSDT', 'leverage': '10', 'maxNotionalValue': '230000000'}"
      ]
     },
     "execution_count": 5,
     "metadata": {},
     "output_type": "execute_result"
    }
   ],
   "source": [
    "# Set leverage properly\n",
    "exchange.set_leverage(leverage, symbol)"
   ]
  },
  {
   "cell_type": "code",
   "execution_count": 6,
   "metadata": {},
   "outputs": [],
   "source": [
    "# Get initial price\n",
    "price_data = exchange.fetch_ticker(symbol)\n",
    "initial_price = price_data['last']\n",
    "\n",
    "# Generate grid price levels\n",
    "grid_prices = [initial_price + (i - grid_levels // 2) * grid_spacing for i in range(grid_levels)]\n"
   ]
  },
  {
   "cell_type": "code",
   "execution_count": 9,
   "metadata": {},
   "outputs": [
    {
     "name": "stdout",
     "output_type": "stream",
     "text": [
      "✅ Binance data downloaded and saved as 'binance_data.csv'\n"
     ]
    }
   ],
   "source": [
    "import ccxt\n",
    "import pandas as pd\n",
    "\n",
    "# Initialize Binance exchange (without API keys for public data)\n",
    "exchange = ccxt.binance()\n",
    "\n",
    "# Fetch historical data (Example: BTC/USDT, 1-minute timeframe)\n",
    "bars = exchange.fetch_ohlcv('BTC/USDT', timeframe='1m', limit=500)\n",
    "\n",
    "# Convert to DataFrame\n",
    "df = pd.DataFrame(bars, columns=['timestamp', 'open', 'high', 'low', 'close', 'volume'])\n",
    "\n",
    "# Convert timestamp to readable date\n",
    "df['timestamp'] = pd.to_datetime(df['timestamp'], unit='ms')\n",
    "\n",
    "# Save to CSV file\n",
    "df.to_csv('binance_data.csv', index=False)\n",
    "\n",
    "print(\"✅ Binance data downloaded and saved as 'binance_data.csv'\")\n"
   ]
  },
  {
   "cell_type": "code",
   "execution_count": 11,
   "metadata": {},
   "outputs": [
    {
     "name": "stdout",
     "output_type": "stream",
     "text": [
      "Columns in CSV: Index(['timestamp', 'open', 'high', 'low', 'close', 'volume'], dtype='object')\n"
     ]
    },
    {
     "data": {
      "text/plain": [
       "<function print>"
      ]
     },
     "execution_count": 11,
     "metadata": {},
     "output_type": "execute_result"
    }
   ],
   "source": [
    "\n",
    "df = pd.read_csv(\"binance_data.csv\")\n",
    "\n",
    "# Print column names\n",
    "print(\"Columns in CSV:\", df.columns)\n",
    "\n",
    "# Show first few rows\n",
    "print"
   ]
  },
  {
   "cell_type": "code",
   "execution_count": 13,
   "metadata": {},
   "outputs": [
    {
     "name": "stdout",
     "output_type": "stream",
     "text": [
      "count      500.000000\n",
      "mean     97302.583760\n",
      "std        347.199632\n",
      "min      96587.240000\n",
      "25%      97034.845000\n",
      "50%      97299.995000\n",
      "75%      97623.795000\n",
      "max      98026.490000\n",
      "Name: close, dtype: float64\n",
      "[97345.74 97373.46 97345.85 97346.91 97261.12 97201.01 97252.34 97268.68\n",
      " 97201.   97235.35]\n"
     ]
    }
   ],
   "source": [
    "print(df['close'].describe())  # See min, max, mean close prices\n",
    "print(df['close'].unique()[:10])  # Print first 10 unique prices\n"
   ]
  },
  {
   "cell_type": "code",
   "execution_count": 18,
   "metadata": {},
   "outputs": [
    {
     "name": "stdout",
     "output_type": "stream",
     "text": [
      "🟢 BUY at 97302.87 on 2025-02-07 05:36:00\n",
      "🔴 SELL at 97302.87 on 2025-02-07 05:36:00\n",
      "🟢 BUY at 97300.01 on 2025-02-07 05:45:00\n",
      "🔴 SELL at 97300.01 on 2025-02-07 05:45:00\n",
      "🟢 BUY at 97295.57 on 2025-02-07 05:48:00\n",
      "🔴 SELL at 97295.57 on 2025-02-07 05:48:00\n",
      "🟢 BUY at 97304.63 on 2025-02-07 05:51:00\n",
      "🔴 SELL at 97304.63 on 2025-02-07 05:51:00\n",
      "🟢 BUY at 97303.11 on 2025-02-07 05:54:00\n",
      "🔴 SELL at 97303.11 on 2025-02-07 05:54:00\n",
      "🟢 BUY at 97307.59 on 2025-02-07 05:58:00\n",
      "🔴 SELL at 97307.59 on 2025-02-07 05:58:00\n",
      "🟢 BUY at 97300.0 on 2025-02-07 06:04:00\n",
      "🔴 SELL at 97300.0 on 2025-02-07 06:04:00\n",
      "🟢 BUY at 97298.47 on 2025-02-07 06:05:00\n",
      "🔴 SELL at 97298.47 on 2025-02-07 06:05:00\n",
      "🟢 BUY at 97291.18 on 2025-02-07 06:16:00\n",
      "🔴 SELL at 97042.94 on 2025-02-07 06:26:00\n",
      "🟢 BUY at 97029.08 on 2025-02-07 07:17:00\n",
      "🔴 SELL at 97036.22 on 2025-02-07 07:25:00\n",
      "🟢 BUY at 97037.35 on 2025-02-07 08:36:00\n",
      "🔴 SELL at 97030.72 on 2025-02-07 08:58:00\n",
      "🟢 BUY at 97302.54 on 2025-02-07 09:16:00\n",
      "🔴 SELL at 97302.54 on 2025-02-07 09:16:00\n",
      "🟢 BUY at 97295.18 on 2025-02-07 09:25:00\n",
      "🔴 SELL at 97295.18 on 2025-02-07 09:25:00\n",
      "🟢 BUY at 97300.0 on 2025-02-07 09:26:00\n",
      "🔴 SELL at 97300.0 on 2025-02-07 09:26:00\n",
      "🟢 BUY at 97292.72 on 2025-02-07 09:27:00\n",
      "🔴 SELL at 97292.72 on 2025-02-07 09:27:00\n",
      "🟢 BUY at 97297.83 on 2025-02-07 09:42:00\n",
      "🔴 SELL at 97297.83 on 2025-02-07 09:42:00\n",
      "🟢 BUY at 97291.9 on 2025-02-07 09:47:00\n",
      "🔴 SELL at 97299.99 on 2025-02-07 09:50:00\n",
      "🟢 BUY at 97299.99 on 2025-02-07 09:50:00\n",
      "🔴 SELL at 97300.01 on 2025-02-07 09:52:00\n",
      "🟢 BUY at 97300.01 on 2025-02-07 09:52:00\n",
      "🔴 SELL at 97302.44 on 2025-02-07 09:58:00\n",
      "🟢 BUY at 97302.44 on 2025-02-07 09:58:00\n",
      "🔴 SELL at 97295.23 on 2025-02-07 09:59:00\n",
      "🟢 BUY at 97295.23 on 2025-02-07 09:59:00\n",
      "🔴 SELL at 97305.84 on 2025-02-07 10:01:00\n",
      "🟢 BUY at 97305.84 on 2025-02-07 10:01:00\n",
      "🔴 SELL at 97297.39 on 2025-02-07 10:03:00\n",
      "🟢 BUY at 97297.39 on 2025-02-07 10:03:00\n",
      "🔴 SELL at 97298.51 on 2025-02-07 10:13:00\n",
      "🟢 BUY at 97298.51 on 2025-02-07 10:13:00\n",
      "🔴 SELL at 97304.29 on 2025-02-07 10:19:00\n",
      "🟢 BUY at 97304.29 on 2025-02-07 10:19:00\n",
      "🔴 SELL at 97310.9 on 2025-02-07 10:52:00\n",
      "🟢 BUY at 97301.4 on 2025-02-07 10:54:00\n",
      "🔴 SELL at 97301.4 on 2025-02-07 10:54:00\n",
      "🟢 BUY at 97302.87 on 2025-02-07 11:00:00\n",
      "🔴 SELL at 97302.87 on 2025-02-07 11:00:00\n",
      "🟢 BUY at 97305.99 on 2025-02-07 11:03:00\n",
      "🔴 SELL at 97305.99 on 2025-02-07 11:03:00\n",
      "🟢 BUY at 97620.14 on 2025-02-07 11:12:00\n",
      "🔴 SELL at 97632.91 on 2025-02-07 11:14:00\n",
      "🟢 BUY at 97627.92 on 2025-02-07 11:15:00\n",
      "🔴 SELL at 97620.67 on 2025-02-07 11:18:00\n",
      "🟢 BUY at 97630.43 on 2025-02-07 11:25:00\n",
      "🔴 SELL at 97630.43 on 2025-02-07 11:26:00\n",
      "🟢 BUY at 97630.44 on 2025-02-07 11:27:00\n",
      "🔴 SELL at 97626.42 on 2025-02-07 11:35:00\n",
      "🟢 BUY at 97630.43 on 2025-02-07 11:38:00\n",
      "🔴 SELL at 97629.51 on 2025-02-07 11:39:00\n",
      "🟢 BUY at 97630.55 on 2025-02-07 11:43:00\n",
      "🔴 SELL at 97618.45 on 2025-02-07 11:44:00\n",
      "🟢 BUY at 97622.92 on 2025-02-07 11:47:00\n",
      "🔴 SELL at 97629.57 on 2025-02-07 11:48:00\n",
      "🟢 BUY at 97630.76 on 2025-02-07 11:53:00\n",
      "🔴 SELL at 97622.92 on 2025-02-07 12:12:00\n",
      "🟢 BUY at 97631.58 on 2025-02-07 12:13:00\n",
      "🔴 SELL at 97630.44 on 2025-02-07 12:14:00\n",
      "🟢 BUY at 97620.73 on 2025-02-07 12:24:00\n",
      "🔴 SELL at 98026.49 on 2025-02-07 12:48:00\n",
      "🟢 BUY at 97627.07 on 2025-02-07 13:14:00\n",
      "🔴 SELL at 97620.0 on 2025-02-07 13:23:00\n"
     ]
    }
   ],
   "source": [
    "# import pandas as pd\n",
    "\n",
    "# # Load historical data (CSV from Binance)\n",
    "# df = pd.read_csv('binance_data.csv')\n",
    "# df['time'] = pd.to_datetime(df['timestamp'])\n",
    "# df.set_index('time', inplace=True)\n",
    "\n",
    "# # Set grid prices (Example)\n",
    "# grid_prices = [97623.795000, 97299.995000, 97034.845000,98026.490000, 97302.583760]\n",
    "\n",
    "# # Track last trade direction (None at start)\n",
    "# last_trade = None  \n",
    "\n",
    "# # Simulate trading\n",
    "# for index, row in df.iterrows():\n",
    "#     price = row['close']\n",
    "\n",
    "#     for grid_price in grid_prices:\n",
    "#         if abs(price - grid_price) <= 10:  # Allow small variation\n",
    "            \n",
    "#             if last_trade == \"SELL\" or last_trade is None:\n",
    "#                 print(f\"🟢 BUY at {price} on {index}\")\n",
    "#                 last_trade = \"BUY\"\n",
    "            \n",
    "#             elif last_trade == \"BUY\":\n",
    "#                 print(f\"🔴 SELL at {price} on {index}\")\n",
    "#                 last_trade = \"SELL\"\n",
    "            \n"
   ]
  },
  {
   "cell_type": "code",
   "execution_count": 19,
   "metadata": {},
   "outputs": [
    {
     "name": "stdout",
     "output_type": "stream",
     "text": [
      "Current BTC Price: 98653.24\n",
      "Grid Prices: [93720.58, 94707.11, 95693.64, 96680.18, 97666.71, 98653.24, 99639.77, 100626.3, 101612.84, 102599.37, 103585.9]\n",
      "🟢 BUY at 96672.57 on 2025-02-07 08:00:00\n",
      "🔴 SELL at 96673.65 on 2025-02-07 08:01:00\n",
      "🟢 BUY at 96686.99 on 2025-02-07 08:04:00\n",
      "🔴 SELL at 97656.94 on 2025-02-07 11:11:00\n",
      "🟢 BUY at 97663.05 on 2025-02-07 11:16:00\n",
      "🔴 SELL at 97658.0 on 2025-02-07 11:19:00\n",
      "🟢 BUY at 97673.83 on 2025-02-07 11:21:00\n",
      "🔴 SELL at 97674.0 on 2025-02-07 11:23:00\n",
      "🟢 BUY at 97657.48 on 2025-02-07 11:41:00\n",
      "🔴 SELL at 97664.11 on 2025-02-07 11:46:00\n",
      "🟢 BUY at 97667.58 on 2025-02-07 11:54:00\n",
      "🔴 SELL at 97661.59 on 2025-02-07 12:11:00\n",
      "🟢 BUY at 97673.58 on 2025-02-07 12:15:00\n",
      "🔴 SELL at 97662.77 on 2025-02-07 12:21:00\n",
      "🟢 BUY at 97675.75 on 2025-02-07 12:28:00\n",
      "🔴 SELL at 97673.68 on 2025-02-07 13:15:00\n"
     ]
    }
   ],
   "source": [
    "import ccxt\n",
    "import pandas as pd\n",
    "\n",
    "# Initialize Binance exchange\n",
    "exchange = ccxt.binance()\n",
    "\n",
    "# Fetch current BTC/USDT price\n",
    "ticker = exchange.fetch_ticker('BTC/USDT')\n",
    "current_price = ticker['last']\n",
    "print(f\"Current BTC Price: {current_price}\")\n",
    "\n",
    "# Generate dynamic grid prices (±1% steps)\n",
    "grid_step = 0.01  # 1% per step\n",
    "num_grids = 5     # Number of grid levels\n",
    "\n",
    "grid_prices = sorted([\n",
    "    round(current_price * (1 + grid_step * i), 2) for i in range(-num_grids, num_grids + 1)\n",
    "])\n",
    "\n",
    "print(f\"Grid Prices: {grid_prices}\")\n",
    "\n",
    "# Load historical data\n",
    "df = pd.read_csv('binance_data.csv')\n",
    "df['time'] = pd.to_datetime(df['timestamp'])\n",
    "df.set_index('time', inplace=True)\n",
    "\n",
    "# Track last trade direction\n",
    "last_trade = None  \n",
    "\n",
    "# Simulate trading\n",
    "for index, row in df.iterrows():\n",
    "    price = row['close']\n",
    "\n",
    "    for grid_price in grid_prices:\n",
    "        if abs(price - grid_price) <= 10:  # Allow small variation\n",
    "            \n",
    "            if last_trade == \"SELL\" or last_trade is None:\n",
    "                print(f\"🟢 BUY at {price} on {index}\")\n",
    "                last_trade = \"BUY\"\n",
    "            \n",
    "            elif last_trade == \"BUY\":\n",
    "                print(f\"🔴 SELL at {price} on {index}\")\n",
    "                last_trade = \"SELL\"\n"
   ]
  },
  {
   "cell_type": "code",
   "execution_count": null,
   "metadata": {},
   "outputs": [],
   "source": []
  }
 ],
 "metadata": {
  "kernelspec": {
   "display_name": "Python 3",
   "language": "python",
   "name": "python3"
  },
  "language_info": {
   "codemirror_mode": {
    "name": "ipython",
    "version": 3
   },
   "file_extension": ".py",
   "mimetype": "text/x-python",
   "name": "python",
   "nbconvert_exporter": "python",
   "pygments_lexer": "ipython3",
   "version": "3.9.6"
  }
 },
 "nbformat": 4,
 "nbformat_minor": 2
}
