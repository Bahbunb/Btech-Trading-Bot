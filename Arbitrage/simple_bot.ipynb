{
 "cells": [
  {
   "cell_type": "code",
   "execution_count": 2,
   "metadata": {},
   "outputs": [
    {
     "name": "stdout",
     "output_type": "stream",
     "text": [
      "-4.444444444444443\n"
     ]
    }
   ],
   "source": [
    "Intiial_BTC_Price = 90000\n",
    "FR = 0.05\n",
    "Capital = 100\n",
    "Period = 24\n",
    "Final_BTC_Price = 100000\n",
    "SHORT = 50\n",
    "LONG = 50\n",
    "\n",
    "def calculate_profit(Intiial_BTC_Price, Final_BTC_Price, capital, period, FR, SHORT, LONG):\n",
    "    if FR > 0:\n",
    "        PROFIT = ((Final_BTC_Price - Intiial_BTC_Price)/Intiial_BTC_Price * LONG +LONG) + ( - (FR *SHORT *Period))\n",
    "    else:\n",
    "        PROFIT = ((Final_BTC_Price - Intiial_BTC_Price)/Intiial_BTC_Price * SHORT +SHORT) + (FR *LONG *Period)\n",
    "    return PROFIT\n",
    "\n",
    "print(calculate_profit(Intiial_BTC_Price, Final_BTC_Price, Capital, Period, FR, SHORT, LONG))"
   ]
  },
  {
   "cell_type": "code",
   "execution_count": null,
   "metadata": {
    "vscode": {
     "languageId": "ruby"
    }
   },
   "outputs": [],
   "source": [
    "Intiial_BTC_Price = 90000\n",
    "Final_BTC_Price = 100000\n",
    "CAPITAL = 1000000\n",
    "PERIOD = 8\n",
    "FUNDING_THRESHOLD = 0.0001\n",
    "LONG = 0\n",
    "SHORT = 0\n",
    "\n",
    "def calculate_profit(Intiial_BTC_Price, Final_BTC_Price, capital, period, FR, SHORT, LONG):\n",
    "    if POSITION = \"LONG\":\n",
    "        PROFIT = ((Final_BTC_Price - Intiial_BTC_Price)/Intiial_BTC_Price * LONG + LONG) + ( - (FR * SHORT * period))\n",
    "    elif POSITION = \"SHORT\":\n",
    "        PROFIT = ((Final_BTC_Price - Intiial_BTC_Price)/Intiial_BTC_Price * SHORT + SHORT) + (FR * LONG * period)\n",
    "    else:\n",
    "        PROFIT = 0\n",
    "    return PROFIT\n",
    "\n",
    "def funding_arbitrage():\n",
    "    for i in range(len(data)):\n",
    "        FR = data[i]  # Assuming data contains funding rates\n",
    "        if FR > FUNDING_THRESHOLD:\n",
    "            position = \"LONG\"\n",
    "        elif FR < -FUNDING_THRESHOLD:\n",
    "            position = \"SHORT\"\n",
    "        else:\n",
    "            position = \"NO TRADE\"\n",
    "        \n",
    "        if position == \"LONG\":\n",
    "            LONG += 10000\n",
    "            CAPITAL -= 10000\n",
    "            print(calculate_profit(Intiial_BTC_Price, Final_BTC_Price, CAPITAL, PERIOD, FR, SHORT, LONG))\n",
    "        elif position == \"SHORT\":\n",
    "            SHORT += 10000\n",
    "            CAPITAL -= 10000\n",
    "            calculate_profit\n",
    "\n",
    "\n",
    "\n",
    "\n",
    "\n",
    "    \n"
   ]
  },
  {
   "cell_type": "code",
   "execution_count": null,
   "metadata": {
    "vscode": {
     "languageId": "ruby"
    }
   },
   "outputs": [],
   "source": [
    "import pandas as pd\n",
    "\n",
    "# Load dataset\n",
    "file_path = \"your_dataset.csv\"  # Update with your actual dataset file\n",
    "df = pd.read_csv(file_path)\n",
    "\n",
    "# Convert timestamp to datetime format\n",
    "df[\"timestamp\"] = pd.to_datetime(df[\"timestamp\"])\n",
    "\n",
    "# Constants\n",
    "FUNDING_THRESHOLD = 0.0005  # Define your threshold for trading\n",
    "CAPITAL = 100000  # Initial capital\n",
    "LONG = 0  # Long position size\n",
    "SHORT = 0  # Short position size\n",
    "PERIOD = 8  # Funding interval in hours\n",
    "\n",
    "# Store trade history\n",
    "trade_history = []\n",
    "\n",
    "# Function to calculate profit/loss\n",
    "def calculate_profit(initial_price, final_price, capital, period, FR, SHORT, LONG):\n",
    "    if position == \"LONG\":\n",
    "        profit = ((final_price - initial_price) / initial_price * LONG) + LONG - (FR * SHORT * period)\n",
    "    elif position == \"SHORT\":\n",
    "        profit = ((initial_price - final_price) / initial_price * SHORT) + SHORT + (FR * LONG * period)\n",
    "    else:\n",
    "        profit = 0\n",
    "    return profit\n",
    "\n",
    "# Funding Rate Arbitrage Strategy\n",
    "for i in range(len(df) - 1):  # Iterate through dataset\n",
    "    FR = df.loc[i, \"funding_rate\"]  # Get funding rate\n",
    "    initial_price = df.loc[i, \"close_futures\"]  # Use futures price for entry\n",
    "    final_price = df.loc[i + 1, \"close_futures\"]  # Next price for exit\n",
    "    timestamp = df.loc[i, \"timestamp\"]  # Store timestamp\n",
    "    \n",
    "    # Determine position\n",
    "    if FR > FUNDING_THRESHOLD:\n",
    "        position = \"LONG\"\n",
    "    elif FR < -FUNDING_THRESHOLD:\n",
    "        position = \"SHORT\"\n",
    "    else:\n",
    "        position = \"NO TRADE\"\n",
    "    \n",
    "    # Execute trade logic\n",
    "    if position == \"LONG\":\n",
    "        LONG += 10000\n",
    "        CAPITAL -= 10000\n",
    "        profit = calculate_profit(initial_price, final_price, CAPITAL, PERIOD, FR, SHORT, LONG)\n",
    "    elif position == \"SHORT\":\n",
    "        SHORT += 10000\n",
    "        CAPITAL -= 10000\n",
    "        profit = calculate_profit(initial_price, final_price, CAPITAL, PERIOD, FR, SHORT, LONG)\n",
    "    else:\n",
    "        profit = 0  # No trade, no profit\n",
    "\n",
    "    # Store trade details\n",
    "    trade_history.append({\n",
    "        \"timestamp\": timestamp,\n",
    "        \"position\": position,\n",
    "        \"initial_price\": initial_price,\n",
    "        \"final_price\": final_price,\n",
    "        \"funding_rate\": FR,\n",
    "        \"profit\": profit,\n",
    "        \"capital_after_trade\": CAPITAL\n",
    "    })\n",
    "\n",
    "# Convert trade history to a DataFrame\n",
    "trade_df = pd.DataFrame(trade_history)\n",
    "\n",
    "# Save trade history to a CSV file\n",
    "output_file = \"trade_history.csv\"\n",
    "trade_df.to_csv(output_file, index=False)\n",
    "\n",
    "print(f\"✅ Trade history saved to {output_file}\")\n",
    "print(f\"Final Capital: {CAPITAL}, Final LONG: {LONG}, Final SHORT: {SHORT}\")\n"
   ]
  }
 ],
 "metadata": {
  "kernelspec": {
   "display_name": ".venv",
   "language": "python",
   "name": "python3"
  },
  "language_info": {
   "codemirror_mode": {
    "name": "ipython",
    "version": 3
   },
   "file_extension": ".py",
   "mimetype": "text/x-python",
   "name": "python",
   "nbconvert_exporter": "python",
   "pygments_lexer": "ipython3",
   "version": "3.12.3"
  }
 },
 "nbformat": 4,
 "nbformat_minor": 2
}
