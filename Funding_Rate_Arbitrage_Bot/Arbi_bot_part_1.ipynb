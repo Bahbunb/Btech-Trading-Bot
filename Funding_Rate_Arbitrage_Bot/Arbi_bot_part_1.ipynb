{
 "cells": [
  {
   "cell_type": "markdown",
   "metadata": {},
   "source": [
    "This code collects 1 year historical data from 2024-02-12 to 2025-01-10. The columns that will be collected are:\n",
    "1. Futures price\n",
    "2. Spot price\n",
    "3. Funding rate\n",
    "\n",
    "This is a list of popular coins. This code will be used to collect data on bitcoin, ethereum and solana.\n",
    "1. BTCUSDT (Bitcoin) is the first and largest cryptocurrency by market capitalization.\n",
    "2. ETHUSDT (ETH) is the second-largest cryptocurrency, known for its smart contract capabilities and decentralized applications (DApps). Unlike Bitcoin, which primarily serves as digital money, Ethereum powers a wide range of use cases, including DeFi (Decentralized Finance), NFTs, and enterprise blockchain solutions.\n",
    "3. SOLUSDT (Solana) – Fast and scalable, growing ecosystem\n",
    "4. BNBUSDT (Binance Coin) – Strong use case, widely adopted\n",
    "5. XRPUSDT (Ripple) – Used for cross-border payments\n",
    "6. ADAUSDT (Cardano) – Research-driven blockchain\n",
    "7. DOGEUSDT (Dogecoin) – High community support, sometimes volatile"
   ]
  },
  {
   "cell_type": "markdown",
   "metadata": {},
   "source": [
    "### Part 0. Inputs"
   ]
  },
  {
   "cell_type": "code",
   "execution_count": null,
   "metadata": {},
   "outputs": [],
   "source": [
    "symbol_input = 'SOLUSDT'\n",
    "end_time = datetime.strptime(\"2025-01-10 16:00:00\", \"%Y-%m-%d %H:%M:%S\")\n",
    "start_time = datetime.strptime(\"2024-02-12 16:00:00\", \"%Y-%m-%d %H:%M:%S\")"
   ]
  },
  {
   "cell_type": "markdown",
   "metadata": {},
   "source": [
    "### Part 1. Import libraires and Define the functions "
   ]
  },
  {
   "cell_type": "code",
   "execution_count": null,
   "metadata": {},
   "outputs": [],
   "source": [
    "import pandas as pd\n",
    "import requests\n",
    "import time\n",
    "from datetime import datetime, timedelta\n",
    "\n",
    "# Binance API URLs\n",
    "spot_url = \"https://api.binance.com/api/v1/klines\"\n",
    "futures_url = \"https://fapi.binance.com/fapi/v1/klines\"\n",
    "funding_rate_url = \"https://fapi.binance.com/fapi/v1/fundingRate\"\n",
    "\n",
    "# Convert time to milliseconds\n",
    "start_time_ms = int(time.mktime(start_time.timetuple()) * 1000)\n",
    "end_time_ms = int(time.mktime(end_time.timetuple()) * 1000)\n",
    "\n",
    "# Function to fetch historical data - for spot price and futures price\n",
    "def fetch_data(url, symbol, interval, start_time, end_time, limit):\n",
    "    params = {\n",
    "        'symbol': symbol,\n",
    "        'interval': interval,\n",
    "        'startTime': start_time,\n",
    "        'endTime': end_time,\n",
    "        'limit': limit\n",
    "    }\n",
    "    response = requests.get(url, params=params)\n",
    "    data = response.json()\n",
    "    return data\n",
    "\n",
    "# Function to fetch funding rate data\n",
    "def fetch_funding_rate(symbol, start_time, end_time):\n",
    "    funding_rate_data = []\n",
    "    # Funding rate is updated every 8 hours, fetch in chunks\n",
    "    while start_time < end_time:\n",
    "        params = {\n",
    "            'symbol': symbol,\n",
    "            'startTime': start_time,\n",
    "            'endTime': min(start_time + 8 * 60 * 60 * 1000, end_time),  # 8 hours in ms\n",
    "        }\n",
    "        response = requests.get(funding_rate_url, params=params)\n",
    "        data = response.json()\n",
    "        funding_rate_data.extend(data)\n",
    "        start_time += 8 * 60 * 60 * 1000  # Move 8 hours forward\n",
    "    return funding_rate_data"
   ]
  },
  {
   "cell_type": "markdown",
   "metadata": {},
   "source": [
    "### Part 2. Get Funding Rate, Futures Price and Spot Price Data"
   ]
  },
  {
   "cell_type": "markdown",
   "metadata": {},
   "source": [
    "##### 1. Funding Rate Data"
   ]
  },
  {
   "cell_type": "code",
   "execution_count": 3,
   "metadata": {},
   "outputs": [],
   "source": [
    "# Fetch funding rate data - takes around 2+ minutes\n",
    "funding_data = fetch_funding_rate(symbol_input, start_time_ms, end_time_ms)\n",
    "funding_rate_df =pd.DataFrame(funding_data, columns=['symbol', 'fundingTime', 'fundingRate', 'markPrice'])"
   ]
  },
  {
   "cell_type": "code",
   "execution_count": 4,
   "metadata": {},
   "outputs": [
    {
     "name": "stderr",
     "output_type": "stream",
     "text": [
      "C:\\Users\\julia\\AppData\\Local\\Temp\\ipykernel_18352\\892491588.py:3: FutureWarning: Setting an item of incompatible dtype is deprecated and will raise in a future error of pandas. Value '<DatetimeArray>\n",
      "['2024-02-12 08:00:00', '2024-02-12 16:00:00', '2024-02-12 16:00:00',\n",
      " '2024-02-13 00:00:00', '2024-02-13 00:00:00', '2024-02-13 08:00:00',\n",
      " '2024-02-13 08:00:00', '2024-02-13 16:00:00', '2024-02-13 16:00:00',\n",
      " '2024-02-14 00:00:00',\n",
      " ...\n",
      " '2025-01-08 16:00:00', '2025-01-09 00:00:00', '2025-01-09 00:00:00',\n",
      " '2025-01-09 08:00:00', '2025-01-09 08:00:00', '2025-01-09 16:00:00',\n",
      " '2025-01-09 16:00:00', '2025-01-10 00:00:00', '2025-01-10 00:00:00',\n",
      " '2025-01-10 08:00:00']\n",
      "Length: 1844, dtype: datetime64[ns]' has dtype incompatible with int64, please explicitly cast to a compatible dtype first.\n",
      "  filtered_funding_rate_df.loc[:, 'timestamp'] = pd.to_datetime(filtered_funding_rate_df['timestamp'], unit='ms')\n"
     ]
    }
   ],
   "source": [
    "filtered_funding_rate_df = funding_rate_df[['fundingTime','fundingRate']]\n",
    "filtered_funding_rate_df = filtered_funding_rate_df.rename(columns={'fundingTime': 'timestamp', 'fundingRate': 'funding_rate'}) # Rename the columns\n",
    "filtered_funding_rate_df.loc[:, 'timestamp'] = pd.to_datetime(filtered_funding_rate_df['timestamp'], unit='ms')"
   ]
  },
  {
   "cell_type": "code",
   "execution_count": 5,
   "metadata": {},
   "outputs": [
    {
     "data": {
      "application/vnd.microsoft.datawrangler.viewer.v0+json": {
       "columns": [
        {
         "name": "index",
         "rawType": "int64",
         "type": "integer"
        },
        {
         "name": "timestamp",
         "rawType": "datetime64[ns]",
         "type": "datetime"
        },
        {
         "name": "funding_rate",
         "rawType": "object",
         "type": "string"
        }
       ],
       "conversionMethod": "pd.DataFrame",
       "ref": "83c51831-68c1-47df-849d-17f76c690412",
       "rows": [
        [
         "0",
         "2024-02-12 08:00:00",
         "0.00010000"
        ],
        [
         "1",
         "2024-02-12 16:00:00",
         "0.00010000"
        ],
        [
         "2",
         "2024-02-12 16:00:00",
         "0.00010000"
        ],
        [
         "3",
         "2024-02-13 00:00:00",
         "0.00010000"
        ],
        [
         "4",
         "2024-02-13 00:00:00",
         "0.00010000"
        ],
        [
         "5",
         "2024-02-13 08:00:00",
         "0.00014166"
        ],
        [
         "6",
         "2024-02-13 08:00:00",
         "0.00014166"
        ],
        [
         "7",
         "2024-02-13 16:00:00",
         "0.00010000"
        ],
        [
         "8",
         "2024-02-13 16:00:00",
         "0.00010000"
        ],
        [
         "9",
         "2024-02-14 00:00:00",
         "0.00010000"
        ],
        [
         "10",
         "2024-02-14 00:00:00",
         "0.00010000"
        ],
        [
         "11",
         "2024-02-14 08:00:00",
         "0.00010000"
        ],
        [
         "12",
         "2024-02-14 08:00:00",
         "0.00010000"
        ],
        [
         "13",
         "2024-02-14 16:00:00",
         "0.00029225"
        ],
        [
         "14",
         "2024-02-14 16:00:00",
         "0.00029225"
        ],
        [
         "15",
         "2024-02-15 00:00:00",
         "0.00013572"
        ],
        [
         "16",
         "2024-02-15 00:00:00",
         "0.00013572"
        ],
        [
         "17",
         "2024-02-15 08:00:00",
         "0.00015932"
        ],
        [
         "18",
         "2024-02-15 08:00:00",
         "0.00015932"
        ],
        [
         "19",
         "2024-02-15 16:00:00",
         "0.00012000"
        ],
        [
         "20",
         "2024-02-15 16:00:00",
         "0.00012000"
        ],
        [
         "21",
         "2024-02-16 00:00:00",
         "0.00022371"
        ],
        [
         "22",
         "2024-02-16 00:00:00",
         "0.00022371"
        ],
        [
         "23",
         "2024-02-16 08:00:00",
         "0.00032087"
        ],
        [
         "24",
         "2024-02-16 08:00:00",
         "0.00032087"
        ],
        [
         "25",
         "2024-02-16 16:00:00",
         "0.00016914"
        ],
        [
         "26",
         "2024-02-16 16:00:00",
         "0.00016914"
        ],
        [
         "27",
         "2024-02-17 00:00:00",
         "0.00017661"
        ],
        [
         "28",
         "2024-02-17 00:00:00",
         "0.00017661"
        ],
        [
         "29",
         "2024-02-17 08:00:00",
         "0.00042046"
        ],
        [
         "30",
         "2024-02-17 08:00:00",
         "0.00042046"
        ],
        [
         "31",
         "2024-02-17 16:00:00",
         "0.00028279"
        ],
        [
         "32",
         "2024-02-17 16:00:00",
         "0.00028279"
        ],
        [
         "33",
         "2024-02-18 00:00:00",
         "0.00022777"
        ],
        [
         "34",
         "2024-02-18 00:00:00",
         "0.00022777"
        ],
        [
         "35",
         "2024-02-18 08:00:00",
         "0.00019395"
        ],
        [
         "36",
         "2024-02-18 08:00:00",
         "0.00019395"
        ],
        [
         "37",
         "2024-02-18 16:00:00",
         "0.00022192"
        ],
        [
         "38",
         "2024-02-18 16:00:00",
         "0.00022192"
        ],
        [
         "39",
         "2024-02-19 00:00:00",
         "0.00030230"
        ],
        [
         "40",
         "2024-02-19 00:00:00",
         "0.00030230"
        ],
        [
         "41",
         "2024-02-19 08:00:00",
         "0.00029566"
        ],
        [
         "42",
         "2024-02-19 08:00:00",
         "0.00029566"
        ],
        [
         "43",
         "2024-02-19 16:00:00",
         "0.00031944"
        ],
        [
         "44",
         "2024-02-19 16:00:00",
         "0.00031944"
        ],
        [
         "45",
         "2024-02-20 00:00:00",
         "0.00047470"
        ],
        [
         "46",
         "2024-02-20 00:00:00",
         "0.00047470"
        ],
        [
         "47",
         "2024-02-20 08:00:00",
         "0.00029934"
        ],
        [
         "48",
         "2024-02-20 08:00:00",
         "0.00029934"
        ],
        [
         "49",
         "2024-02-20 16:00:00",
         "0.00031742"
        ]
       ],
       "shape": {
        "columns": 2,
        "rows": 1844
       }
      },
      "text/html": [
       "<div>\n",
       "<style scoped>\n",
       "    .dataframe tbody tr th:only-of-type {\n",
       "        vertical-align: middle;\n",
       "    }\n",
       "\n",
       "    .dataframe tbody tr th {\n",
       "        vertical-align: top;\n",
       "    }\n",
       "\n",
       "    .dataframe thead th {\n",
       "        text-align: right;\n",
       "    }\n",
       "</style>\n",
       "<table border=\"1\" class=\"dataframe\">\n",
       "  <thead>\n",
       "    <tr style=\"text-align: right;\">\n",
       "      <th></th>\n",
       "      <th>timestamp</th>\n",
       "      <th>funding_rate</th>\n",
       "    </tr>\n",
       "  </thead>\n",
       "  <tbody>\n",
       "    <tr>\n",
       "      <th>0</th>\n",
       "      <td>2024-02-12 08:00:00</td>\n",
       "      <td>0.00010000</td>\n",
       "    </tr>\n",
       "    <tr>\n",
       "      <th>1</th>\n",
       "      <td>2024-02-12 16:00:00</td>\n",
       "      <td>0.00010000</td>\n",
       "    </tr>\n",
       "    <tr>\n",
       "      <th>2</th>\n",
       "      <td>2024-02-12 16:00:00</td>\n",
       "      <td>0.00010000</td>\n",
       "    </tr>\n",
       "    <tr>\n",
       "      <th>3</th>\n",
       "      <td>2024-02-13 00:00:00</td>\n",
       "      <td>0.00010000</td>\n",
       "    </tr>\n",
       "    <tr>\n",
       "      <th>4</th>\n",
       "      <td>2024-02-13 00:00:00</td>\n",
       "      <td>0.00010000</td>\n",
       "    </tr>\n",
       "    <tr>\n",
       "      <th>...</th>\n",
       "      <td>...</td>\n",
       "      <td>...</td>\n",
       "    </tr>\n",
       "    <tr>\n",
       "      <th>1839</th>\n",
       "      <td>2025-01-09 16:00:00</td>\n",
       "      <td>-0.00001659</td>\n",
       "    </tr>\n",
       "    <tr>\n",
       "      <th>1840</th>\n",
       "      <td>2025-01-09 16:00:00</td>\n",
       "      <td>-0.00001659</td>\n",
       "    </tr>\n",
       "    <tr>\n",
       "      <th>1841</th>\n",
       "      <td>2025-01-10 00:00:00</td>\n",
       "      <td>0.00000873</td>\n",
       "    </tr>\n",
       "    <tr>\n",
       "      <th>1842</th>\n",
       "      <td>2025-01-10 00:00:00</td>\n",
       "      <td>0.00000873</td>\n",
       "    </tr>\n",
       "    <tr>\n",
       "      <th>1843</th>\n",
       "      <td>2025-01-10 08:00:00</td>\n",
       "      <td>-0.00007385</td>\n",
       "    </tr>\n",
       "  </tbody>\n",
       "</table>\n",
       "<p>1844 rows × 2 columns</p>\n",
       "</div>"
      ],
      "text/plain": [
       "               timestamp funding_rate\n",
       "0    2024-02-12 08:00:00   0.00010000\n",
       "1    2024-02-12 16:00:00   0.00010000\n",
       "2    2024-02-12 16:00:00   0.00010000\n",
       "3    2024-02-13 00:00:00   0.00010000\n",
       "4    2024-02-13 00:00:00   0.00010000\n",
       "...                  ...          ...\n",
       "1839 2025-01-09 16:00:00  -0.00001659\n",
       "1840 2025-01-09 16:00:00  -0.00001659\n",
       "1841 2025-01-10 00:00:00   0.00000873\n",
       "1842 2025-01-10 00:00:00   0.00000873\n",
       "1843 2025-01-10 08:00:00  -0.00007385\n",
       "\n",
       "[1844 rows x 2 columns]"
      ]
     },
     "execution_count": 5,
     "metadata": {},
     "output_type": "execute_result"
    }
   ],
   "source": [
    "filtered_funding_rate_df"
   ]
  },
  {
   "cell_type": "markdown",
   "metadata": {},
   "source": [
    "##### 2. Spot Price Data"
   ]
  },
  {
   "cell_type": "code",
   "execution_count": 6,
   "metadata": {},
   "outputs": [],
   "source": [
    "# Fetch spot price data \n",
    "spot_data = fetch_data(spot_url, symbol_input, '8h', start_time_ms, end_time_ms, limit=2000)\n",
    "spot_df = pd.DataFrame(spot_data, columns=['timestamp', 'open', 'high', 'low', 'close', 'volume', 'close_time', 'quote_asset_volume', 'number_of_trades', 'taker_buy_base_asset_volume', 'taker_buy_quote_asset_volume', 'ignore'])"
   ]
  },
  {
   "cell_type": "code",
   "execution_count": 7,
   "metadata": {},
   "outputs": [
    {
     "name": "stderr",
     "output_type": "stream",
     "text": [
      "C:\\Users\\julia\\AppData\\Local\\Temp\\ipykernel_18352\\1216285957.py:3: FutureWarning: Setting an item of incompatible dtype is deprecated and will raise in a future error of pandas. Value '<DatetimeArray>\n",
      "['2024-02-12 08:00:00', '2024-02-12 16:00:00', '2024-02-13 00:00:00',\n",
      " '2024-02-13 08:00:00', '2024-02-13 16:00:00', '2024-02-14 00:00:00',\n",
      " '2024-02-14 08:00:00', '2024-02-14 16:00:00', '2024-02-15 00:00:00',\n",
      " '2024-02-15 08:00:00',\n",
      " ...\n",
      " '2025-01-07 08:00:00', '2025-01-07 16:00:00', '2025-01-08 00:00:00',\n",
      " '2025-01-08 08:00:00', '2025-01-08 16:00:00', '2025-01-09 00:00:00',\n",
      " '2025-01-09 08:00:00', '2025-01-09 16:00:00', '2025-01-10 00:00:00',\n",
      " '2025-01-10 08:00:00']\n",
      "Length: 1000, dtype: datetime64[ns]' has dtype incompatible with int64, please explicitly cast to a compatible dtype first.\n",
      "  filtered_spot_df.loc[:, 'timestamp'] = pd.to_datetime(filtered_spot_df['timestamp'], unit='ms')\n"
     ]
    }
   ],
   "source": [
    "# Prepare spots price dataframe\n",
    "filtered_spot_df = spot_df[['timestamp','open','close']]\n",
    "filtered_spot_df.loc[:, 'timestamp'] = pd.to_datetime(filtered_spot_df['timestamp'], unit='ms')\n"
   ]
  },
  {
   "cell_type": "code",
   "execution_count": 8,
   "metadata": {},
   "outputs": [
    {
     "data": {
      "application/vnd.microsoft.datawrangler.viewer.v0+json": {
       "columns": [
        {
         "name": "index",
         "rawType": "int64",
         "type": "integer"
        },
        {
         "name": "timestamp",
         "rawType": "datetime64[ns]",
         "type": "datetime"
        },
        {
         "name": "open",
         "rawType": "object",
         "type": "string"
        },
        {
         "name": "close",
         "rawType": "object",
         "type": "string"
        }
       ],
       "conversionMethod": "pd.DataFrame",
       "ref": "3ccb2b49-4e78-4e00-822d-910103bad52f",
       "rows": [
        [
         "0",
         "2024-02-12 08:00:00",
         "105.92000000",
         "108.86000000"
        ],
        [
         "1",
         "2024-02-12 16:00:00",
         "108.87000000",
         "111.64000000"
        ],
        [
         "2",
         "2024-02-13 00:00:00",
         "111.65000000",
         "114.02000000"
        ],
        [
         "3",
         "2024-02-13 08:00:00",
         "114.02000000",
         "110.31000000"
        ],
        [
         "4",
         "2024-02-13 16:00:00",
         "110.33000000",
         "112.48000000"
        ],
        [
         "5",
         "2024-02-14 00:00:00",
         "112.49000000",
         "113.06000000"
        ],
        [
         "6",
         "2024-02-14 08:00:00",
         "113.06000000",
         "116.88000000"
        ],
        [
         "7",
         "2024-02-14 16:00:00",
         "116.89000000",
         "116.97000000"
        ],
        [
         "8",
         "2024-02-15 00:00:00",
         "116.97000000",
         "115.01000000"
        ],
        [
         "9",
         "2024-02-15 08:00:00",
         "115.00000000",
         "114.05000000"
        ],
        [
         "10",
         "2024-02-15 16:00:00",
         "114.04000000",
         "113.50000000"
        ],
        [
         "11",
         "2024-02-16 00:00:00",
         "113.50000000",
         "111.48000000"
        ],
        [
         "12",
         "2024-02-16 08:00:00",
         "111.47000000",
         "109.67000000"
        ],
        [
         "13",
         "2024-02-16 16:00:00",
         "109.67000000",
         "110.33000000"
        ],
        [
         "14",
         "2024-02-17 00:00:00",
         "110.32000000",
         "110.34000000"
        ],
        [
         "15",
         "2024-02-17 08:00:00",
         "110.34000000",
         "107.20000000"
        ],
        [
         "16",
         "2024-02-17 16:00:00",
         "107.19000000",
         "108.92000000"
        ],
        [
         "17",
         "2024-02-18 00:00:00",
         "108.92000000",
         "109.23000000"
        ],
        [
         "18",
         "2024-02-18 08:00:00",
         "109.23000000",
         "112.32000000"
        ],
        [
         "19",
         "2024-02-18 16:00:00",
         "112.32000000",
         "112.24000000"
        ],
        [
         "20",
         "2024-02-19 00:00:00",
         "112.25000000",
         "113.22000000"
        ],
        [
         "21",
         "2024-02-19 08:00:00",
         "113.23000000",
         "113.69000000"
        ],
        [
         "22",
         "2024-02-19 16:00:00",
         "113.69000000",
         "111.53000000"
        ],
        [
         "23",
         "2024-02-20 00:00:00",
         "111.53000000",
         "109.42000000"
        ],
        [
         "24",
         "2024-02-20 08:00:00",
         "109.41000000",
         "106.62000000"
        ],
        [
         "25",
         "2024-02-20 16:00:00",
         "106.62000000",
         "108.31000000"
        ],
        [
         "26",
         "2024-02-21 00:00:00",
         "108.32000000",
         "104.85000000"
        ],
        [
         "27",
         "2024-02-21 08:00:00",
         "104.85000000",
         "103.86000000"
        ],
        [
         "28",
         "2024-02-21 16:00:00",
         "103.86000000",
         "105.03000000"
        ],
        [
         "29",
         "2024-02-22 00:00:00",
         "105.04000000",
         "105.07000000"
        ],
        [
         "30",
         "2024-02-22 08:00:00",
         "105.08000000",
         "105.39000000"
        ],
        [
         "31",
         "2024-02-22 16:00:00",
         "105.40000000",
         "101.76000000"
        ],
        [
         "32",
         "2024-02-23 00:00:00",
         "101.75000000",
         "101.98000000"
        ],
        [
         "33",
         "2024-02-23 08:00:00",
         "101.98000000",
         "100.29000000"
        ],
        [
         "34",
         "2024-02-23 16:00:00",
         "100.29000000",
         "99.90000000"
        ],
        [
         "35",
         "2024-02-24 00:00:00",
         "99.91000000",
         "102.24000000"
        ],
        [
         "36",
         "2024-02-24 08:00:00",
         "102.24000000",
         "101.95000000"
        ],
        [
         "37",
         "2024-02-24 16:00:00",
         "101.96000000",
         "104.01000000"
        ],
        [
         "38",
         "2024-02-25 00:00:00",
         "104.02000000",
         "103.03000000"
        ],
        [
         "39",
         "2024-02-25 08:00:00",
         "103.02000000",
         "102.78000000"
        ],
        [
         "40",
         "2024-02-25 16:00:00",
         "102.78000000",
         "103.47000000"
        ],
        [
         "41",
         "2024-02-26 00:00:00",
         "103.47000000",
         "103.30000000"
        ],
        [
         "42",
         "2024-02-26 08:00:00",
         "103.30000000",
         "104.97000000"
        ],
        [
         "43",
         "2024-02-26 16:00:00",
         "104.96000000",
         "109.90000000"
        ],
        [
         "44",
         "2024-02-27 00:00:00",
         "109.90000000",
         "110.41000000"
        ],
        [
         "45",
         "2024-02-27 08:00:00",
         "110.42000000",
         "106.81000000"
        ],
        [
         "46",
         "2024-02-27 16:00:00",
         "106.81000000",
         "108.36000000"
        ],
        [
         "47",
         "2024-02-28 00:00:00",
         "108.35000000",
         "110.08000000"
        ],
        [
         "48",
         "2024-02-28 08:00:00",
         "110.09000000",
         "113.07000000"
        ],
        [
         "49",
         "2024-02-28 16:00:00",
         "113.08000000",
         "119.03000000"
        ]
       ],
       "shape": {
        "columns": 3,
        "rows": 1000
       }
      },
      "text/html": [
       "<div>\n",
       "<style scoped>\n",
       "    .dataframe tbody tr th:only-of-type {\n",
       "        vertical-align: middle;\n",
       "    }\n",
       "\n",
       "    .dataframe tbody tr th {\n",
       "        vertical-align: top;\n",
       "    }\n",
       "\n",
       "    .dataframe thead th {\n",
       "        text-align: right;\n",
       "    }\n",
       "</style>\n",
       "<table border=\"1\" class=\"dataframe\">\n",
       "  <thead>\n",
       "    <tr style=\"text-align: right;\">\n",
       "      <th></th>\n",
       "      <th>timestamp</th>\n",
       "      <th>open</th>\n",
       "      <th>close</th>\n",
       "    </tr>\n",
       "  </thead>\n",
       "  <tbody>\n",
       "    <tr>\n",
       "      <th>0</th>\n",
       "      <td>2024-02-12 08:00:00</td>\n",
       "      <td>105.92000000</td>\n",
       "      <td>108.86000000</td>\n",
       "    </tr>\n",
       "    <tr>\n",
       "      <th>1</th>\n",
       "      <td>2024-02-12 16:00:00</td>\n",
       "      <td>108.87000000</td>\n",
       "      <td>111.64000000</td>\n",
       "    </tr>\n",
       "    <tr>\n",
       "      <th>2</th>\n",
       "      <td>2024-02-13 00:00:00</td>\n",
       "      <td>111.65000000</td>\n",
       "      <td>114.02000000</td>\n",
       "    </tr>\n",
       "    <tr>\n",
       "      <th>3</th>\n",
       "      <td>2024-02-13 08:00:00</td>\n",
       "      <td>114.02000000</td>\n",
       "      <td>110.31000000</td>\n",
       "    </tr>\n",
       "    <tr>\n",
       "      <th>4</th>\n",
       "      <td>2024-02-13 16:00:00</td>\n",
       "      <td>110.33000000</td>\n",
       "      <td>112.48000000</td>\n",
       "    </tr>\n",
       "    <tr>\n",
       "      <th>...</th>\n",
       "      <td>...</td>\n",
       "      <td>...</td>\n",
       "      <td>...</td>\n",
       "    </tr>\n",
       "    <tr>\n",
       "      <th>995</th>\n",
       "      <td>2025-01-09 00:00:00</td>\n",
       "      <td>197.48000000</td>\n",
       "      <td>190.11000000</td>\n",
       "    </tr>\n",
       "    <tr>\n",
       "      <th>996</th>\n",
       "      <td>2025-01-09 08:00:00</td>\n",
       "      <td>190.11000000</td>\n",
       "      <td>192.22000000</td>\n",
       "    </tr>\n",
       "    <tr>\n",
       "      <th>997</th>\n",
       "      <td>2025-01-09 16:00:00</td>\n",
       "      <td>192.22000000</td>\n",
       "      <td>184.95000000</td>\n",
       "    </tr>\n",
       "    <tr>\n",
       "      <th>998</th>\n",
       "      <td>2025-01-10 00:00:00</td>\n",
       "      <td>184.96000000</td>\n",
       "      <td>191.78000000</td>\n",
       "    </tr>\n",
       "    <tr>\n",
       "      <th>999</th>\n",
       "      <td>2025-01-10 08:00:00</td>\n",
       "      <td>191.77000000</td>\n",
       "      <td>187.28000000</td>\n",
       "    </tr>\n",
       "  </tbody>\n",
       "</table>\n",
       "<p>1000 rows × 3 columns</p>\n",
       "</div>"
      ],
      "text/plain": [
       "              timestamp          open         close\n",
       "0   2024-02-12 08:00:00  105.92000000  108.86000000\n",
       "1   2024-02-12 16:00:00  108.87000000  111.64000000\n",
       "2   2024-02-13 00:00:00  111.65000000  114.02000000\n",
       "3   2024-02-13 08:00:00  114.02000000  110.31000000\n",
       "4   2024-02-13 16:00:00  110.33000000  112.48000000\n",
       "..                  ...           ...           ...\n",
       "995 2025-01-09 00:00:00  197.48000000  190.11000000\n",
       "996 2025-01-09 08:00:00  190.11000000  192.22000000\n",
       "997 2025-01-09 16:00:00  192.22000000  184.95000000\n",
       "998 2025-01-10 00:00:00  184.96000000  191.78000000\n",
       "999 2025-01-10 08:00:00  191.77000000  187.28000000\n",
       "\n",
       "[1000 rows x 3 columns]"
      ]
     },
     "execution_count": 8,
     "metadata": {},
     "output_type": "execute_result"
    }
   ],
   "source": [
    "filtered_spot_df"
   ]
  },
  {
   "cell_type": "markdown",
   "metadata": {},
   "source": [
    "##### 3. Futures Price Data"
   ]
  },
  {
   "cell_type": "code",
   "execution_count": 9,
   "metadata": {},
   "outputs": [],
   "source": [
    "# Fetch futures price data \n",
    "futures_data = fetch_data(futures_url, symbol_input, '8h', start_time_ms, end_time_ms, limit=1500)\n",
    "futures_df = pd.DataFrame(futures_data, columns=['timestamp', 'open', 'high', 'low', 'close', 'volume', 'close_time', 'quote_asset_volume', 'number_of_trades', 'taker_buy_base_asset_volume', 'taker_buy_quote_asset_volume', 'ignore'])"
   ]
  },
  {
   "cell_type": "code",
   "execution_count": 10,
   "metadata": {},
   "outputs": [
    {
     "name": "stderr",
     "output_type": "stream",
     "text": [
      "C:\\Users\\julia\\AppData\\Local\\Temp\\ipykernel_18352\\572261149.py:3: FutureWarning: Setting an item of incompatible dtype is deprecated and will raise in a future error of pandas. Value '<DatetimeArray>\n",
      "['2024-02-12 08:00:00', '2024-02-12 16:00:00', '2024-02-13 00:00:00',\n",
      " '2024-02-13 08:00:00', '2024-02-13 16:00:00', '2024-02-14 00:00:00',\n",
      " '2024-02-14 08:00:00', '2024-02-14 16:00:00', '2024-02-15 00:00:00',\n",
      " '2024-02-15 08:00:00',\n",
      " ...\n",
      " '2025-01-07 08:00:00', '2025-01-07 16:00:00', '2025-01-08 00:00:00',\n",
      " '2025-01-08 08:00:00', '2025-01-08 16:00:00', '2025-01-09 00:00:00',\n",
      " '2025-01-09 08:00:00', '2025-01-09 16:00:00', '2025-01-10 00:00:00',\n",
      " '2025-01-10 08:00:00']\n",
      "Length: 1000, dtype: datetime64[ns]' has dtype incompatible with int64, please explicitly cast to a compatible dtype first.\n",
      "  filtered_futures_df.loc[:, 'timestamp'] = pd.to_datetime(filtered_futures_df['timestamp'], unit='ms')\n"
     ]
    }
   ],
   "source": [
    "# Prepare futures price dataframe\n",
    "filtered_futures_df = futures_df[['timestamp','open','close']]\n",
    "filtered_futures_df.loc[:, 'timestamp'] = pd.to_datetime(filtered_futures_df['timestamp'], unit='ms')"
   ]
  },
  {
   "cell_type": "code",
   "execution_count": 11,
   "metadata": {},
   "outputs": [
    {
     "data": {
      "application/vnd.microsoft.datawrangler.viewer.v0+json": {
       "columns": [
        {
         "name": "index",
         "rawType": "int64",
         "type": "integer"
        },
        {
         "name": "timestamp",
         "rawType": "datetime64[ns]",
         "type": "datetime"
        },
        {
         "name": "open",
         "rawType": "object",
         "type": "string"
        },
        {
         "name": "close",
         "rawType": "object",
         "type": "string"
        }
       ],
       "conversionMethod": "pd.DataFrame",
       "ref": "18bea4be-e7fd-45bb-9225-bb0613189fd1",
       "rows": [
        [
         "0",
         "2024-02-12 08:00:00",
         "105.9340",
         "108.8340"
        ],
        [
         "1",
         "2024-02-12 16:00:00",
         "108.8340",
         "111.7370"
        ],
        [
         "2",
         "2024-02-13 00:00:00",
         "111.7370",
         "114.0870"
        ],
        [
         "3",
         "2024-02-13 08:00:00",
         "114.0880",
         "110.3900"
        ],
        [
         "4",
         "2024-02-13 16:00:00",
         "110.3840",
         "112.5390"
        ],
        [
         "5",
         "2024-02-14 00:00:00",
         "112.5390",
         "113.0990"
        ],
        [
         "6",
         "2024-02-14 08:00:00",
         "113.0980",
         "117.0060"
        ],
        [
         "7",
         "2024-02-14 16:00:00",
         "117.0070",
         "117.0920"
        ],
        [
         "8",
         "2024-02-15 00:00:00",
         "117.0920",
         "115.1000"
        ],
        [
         "9",
         "2024-02-15 08:00:00",
         "115.1000",
         "114.1360"
        ],
        [
         "10",
         "2024-02-15 16:00:00",
         "114.1370",
         "113.5980"
        ],
        [
         "11",
         "2024-02-16 00:00:00",
         "113.5970",
         "111.5600"
        ],
        [
         "12",
         "2024-02-16 08:00:00",
         "111.5610",
         "109.7300"
        ],
        [
         "13",
         "2024-02-16 16:00:00",
         "109.7300",
         "110.3920"
        ],
        [
         "14",
         "2024-02-17 00:00:00",
         "110.3930",
         "110.4030"
        ],
        [
         "15",
         "2024-02-17 08:00:00",
         "110.4040",
         "107.2670"
        ],
        [
         "16",
         "2024-02-17 16:00:00",
         "107.2670",
         "109.0080"
        ],
        [
         "17",
         "2024-02-18 00:00:00",
         "109.0090",
         "109.3120"
        ],
        [
         "18",
         "2024-02-18 08:00:00",
         "109.3110",
         "112.4240"
        ],
        [
         "19",
         "2024-02-18 16:00:00",
         "112.4230",
         "112.3450"
        ],
        [
         "20",
         "2024-02-19 00:00:00",
         "112.3440",
         "113.2880"
        ],
        [
         "21",
         "2024-02-19 08:00:00",
         "113.2890",
         "113.7800"
        ],
        [
         "22",
         "2024-02-19 16:00:00",
         "113.7810",
         "111.6580"
        ],
        [
         "23",
         "2024-02-20 00:00:00",
         "111.6570",
         "109.5200"
        ],
        [
         "24",
         "2024-02-20 08:00:00",
         "109.5210",
         "106.6480"
        ],
        [
         "25",
         "2024-02-20 16:00:00",
         "106.6490",
         "108.4180"
        ],
        [
         "26",
         "2024-02-21 00:00:00",
         "108.4170",
         "104.9390"
        ],
        [
         "27",
         "2024-02-21 08:00:00",
         "104.9390",
         "103.9040"
        ],
        [
         "28",
         "2024-02-21 16:00:00",
         "103.9040",
         "105.1130"
        ],
        [
         "29",
         "2024-02-22 00:00:00",
         "105.1170",
         "105.1600"
        ],
        [
         "30",
         "2024-02-22 08:00:00",
         "105.1600",
         "105.4690"
        ],
        [
         "31",
         "2024-02-22 16:00:00",
         "105.4700",
         "101.8050"
        ],
        [
         "32",
         "2024-02-23 00:00:00",
         "101.8040",
         "102.0460"
        ],
        [
         "33",
         "2024-02-23 08:00:00",
         "102.0460",
         "100.3560"
        ],
        [
         "34",
         "2024-02-23 16:00:00",
         "100.3560",
         "99.9730"
        ],
        [
         "35",
         "2024-02-24 00:00:00",
         "99.9730",
         "102.3130"
        ],
        [
         "36",
         "2024-02-24 08:00:00",
         "102.3130",
         "102.0380"
        ],
        [
         "37",
         "2024-02-24 16:00:00",
         "102.0390",
         "104.1140"
        ],
        [
         "38",
         "2024-02-25 00:00:00",
         "104.1130",
         "103.1000"
        ],
        [
         "39",
         "2024-02-25 08:00:00",
         "103.1000",
         "102.8510"
        ],
        [
         "40",
         "2024-02-25 16:00:00",
         "102.8510",
         "103.5690"
        ],
        [
         "41",
         "2024-02-26 00:00:00",
         "103.5700",
         "103.3920"
        ],
        [
         "42",
         "2024-02-26 08:00:00",
         "103.3910",
         "105.0870"
        ],
        [
         "43",
         "2024-02-26 16:00:00",
         "105.0840",
         "110.0340"
        ],
        [
         "44",
         "2024-02-27 00:00:00",
         "110.0330",
         "110.4790"
        ],
        [
         "45",
         "2024-02-27 08:00:00",
         "110.4800",
         "106.8850"
        ],
        [
         "46",
         "2024-02-27 16:00:00",
         "106.8880",
         "108.4500"
        ],
        [
         "47",
         "2024-02-28 00:00:00",
         "108.4510",
         "110.2000"
        ],
        [
         "48",
         "2024-02-28 08:00:00",
         "110.2000",
         "113.1780"
        ],
        [
         "49",
         "2024-02-28 16:00:00",
         "113.1780",
         "119.4250"
        ]
       ],
       "shape": {
        "columns": 3,
        "rows": 1000
       }
      },
      "text/html": [
       "<div>\n",
       "<style scoped>\n",
       "    .dataframe tbody tr th:only-of-type {\n",
       "        vertical-align: middle;\n",
       "    }\n",
       "\n",
       "    .dataframe tbody tr th {\n",
       "        vertical-align: top;\n",
       "    }\n",
       "\n",
       "    .dataframe thead th {\n",
       "        text-align: right;\n",
       "    }\n",
       "</style>\n",
       "<table border=\"1\" class=\"dataframe\">\n",
       "  <thead>\n",
       "    <tr style=\"text-align: right;\">\n",
       "      <th></th>\n",
       "      <th>timestamp</th>\n",
       "      <th>open</th>\n",
       "      <th>close</th>\n",
       "    </tr>\n",
       "  </thead>\n",
       "  <tbody>\n",
       "    <tr>\n",
       "      <th>0</th>\n",
       "      <td>2024-02-12 08:00:00</td>\n",
       "      <td>105.9340</td>\n",
       "      <td>108.8340</td>\n",
       "    </tr>\n",
       "    <tr>\n",
       "      <th>1</th>\n",
       "      <td>2024-02-12 16:00:00</td>\n",
       "      <td>108.8340</td>\n",
       "      <td>111.7370</td>\n",
       "    </tr>\n",
       "    <tr>\n",
       "      <th>2</th>\n",
       "      <td>2024-02-13 00:00:00</td>\n",
       "      <td>111.7370</td>\n",
       "      <td>114.0870</td>\n",
       "    </tr>\n",
       "    <tr>\n",
       "      <th>3</th>\n",
       "      <td>2024-02-13 08:00:00</td>\n",
       "      <td>114.0880</td>\n",
       "      <td>110.3900</td>\n",
       "    </tr>\n",
       "    <tr>\n",
       "      <th>4</th>\n",
       "      <td>2024-02-13 16:00:00</td>\n",
       "      <td>110.3840</td>\n",
       "      <td>112.5390</td>\n",
       "    </tr>\n",
       "    <tr>\n",
       "      <th>...</th>\n",
       "      <td>...</td>\n",
       "      <td>...</td>\n",
       "      <td>...</td>\n",
       "    </tr>\n",
       "    <tr>\n",
       "      <th>995</th>\n",
       "      <td>2025-01-09 00:00:00</td>\n",
       "      <td>197.3700</td>\n",
       "      <td>190.0600</td>\n",
       "    </tr>\n",
       "    <tr>\n",
       "      <th>996</th>\n",
       "      <td>2025-01-09 08:00:00</td>\n",
       "      <td>190.0600</td>\n",
       "      <td>192.0900</td>\n",
       "    </tr>\n",
       "    <tr>\n",
       "      <th>997</th>\n",
       "      <td>2025-01-09 16:00:00</td>\n",
       "      <td>192.0900</td>\n",
       "      <td>184.8800</td>\n",
       "    </tr>\n",
       "    <tr>\n",
       "      <th>998</th>\n",
       "      <td>2025-01-10 00:00:00</td>\n",
       "      <td>184.8700</td>\n",
       "      <td>191.6300</td>\n",
       "    </tr>\n",
       "    <tr>\n",
       "      <th>999</th>\n",
       "      <td>2025-01-10 08:00:00</td>\n",
       "      <td>191.6300</td>\n",
       "      <td>187.2000</td>\n",
       "    </tr>\n",
       "  </tbody>\n",
       "</table>\n",
       "<p>1000 rows × 3 columns</p>\n",
       "</div>"
      ],
      "text/plain": [
       "              timestamp      open     close\n",
       "0   2024-02-12 08:00:00  105.9340  108.8340\n",
       "1   2024-02-12 16:00:00  108.8340  111.7370\n",
       "2   2024-02-13 00:00:00  111.7370  114.0870\n",
       "3   2024-02-13 08:00:00  114.0880  110.3900\n",
       "4   2024-02-13 16:00:00  110.3840  112.5390\n",
       "..                  ...       ...       ...\n",
       "995 2025-01-09 00:00:00  197.3700  190.0600\n",
       "996 2025-01-09 08:00:00  190.0600  192.0900\n",
       "997 2025-01-09 16:00:00  192.0900  184.8800\n",
       "998 2025-01-10 00:00:00  184.8700  191.6300\n",
       "999 2025-01-10 08:00:00  191.6300  187.2000\n",
       "\n",
       "[1000 rows x 3 columns]"
      ]
     },
     "execution_count": 11,
     "metadata": {},
     "output_type": "execute_result"
    }
   ],
   "source": [
    "filtered_futures_df"
   ]
  },
  {
   "cell_type": "markdown",
   "metadata": {},
   "source": [
    "### Part 3. Merge the dataframes"
   ]
  },
  {
   "cell_type": "code",
   "execution_count": 12,
   "metadata": {},
   "outputs": [],
   "source": [
    "# Merge spot and futures price dataframes first\n",
    "spot_future_price_merged_df = pd.merge(\n",
    "    filtered_spot_df[['timestamp', 'close']], \n",
    "    filtered_futures_df[['timestamp', 'close']], \n",
    "    on='timestamp', \n",
    "    suffixes=('_spot', '_futures')\n",
    ")"
   ]
  },
  {
   "cell_type": "code",
   "execution_count": 13,
   "metadata": {},
   "outputs": [],
   "source": [
    "# Merge the result with the funding rate dataframe\n",
    "final_merged_df = pd.merge(\n",
    "    spot_future_price_merged_df, \n",
    "    filtered_funding_rate_df[['timestamp', 'funding_rate']], \n",
    "    on='timestamp'\n",
    ")"
   ]
  },
  {
   "cell_type": "code",
   "execution_count": 14,
   "metadata": {},
   "outputs": [
    {
     "data": {
      "application/vnd.microsoft.datawrangler.viewer.v0+json": {
       "columns": [
        {
         "name": "index",
         "rawType": "int64",
         "type": "integer"
        },
        {
         "name": "timestamp",
         "rawType": "datetime64[ns]",
         "type": "datetime"
        },
        {
         "name": "close_spot",
         "rawType": "object",
         "type": "string"
        },
        {
         "name": "close_futures",
         "rawType": "object",
         "type": "string"
        },
        {
         "name": "funding_rate",
         "rawType": "object",
         "type": "string"
        }
       ],
       "conversionMethod": "pd.DataFrame",
       "ref": "e6412526-d8d3-42d5-b022-cb5f6681b489",
       "rows": [
        [
         "0",
         "2024-02-12 08:00:00",
         "108.86000000",
         "108.8340",
         "0.00010000"
        ],
        [
         "1",
         "2024-02-12 16:00:00",
         "111.64000000",
         "111.7370",
         "0.00010000"
        ],
        [
         "2",
         "2024-02-12 16:00:00",
         "111.64000000",
         "111.7370",
         "0.00010000"
        ],
        [
         "3",
         "2024-02-13 00:00:00",
         "114.02000000",
         "114.0870",
         "0.00010000"
        ],
        [
         "4",
         "2024-02-13 00:00:00",
         "114.02000000",
         "114.0870",
         "0.00010000"
        ],
        [
         "5",
         "2024-02-13 08:00:00",
         "110.31000000",
         "110.3900",
         "0.00014166"
        ],
        [
         "6",
         "2024-02-13 08:00:00",
         "110.31000000",
         "110.3900",
         "0.00014166"
        ],
        [
         "7",
         "2024-02-13 16:00:00",
         "112.48000000",
         "112.5390",
         "0.00010000"
        ],
        [
         "8",
         "2024-02-13 16:00:00",
         "112.48000000",
         "112.5390",
         "0.00010000"
        ],
        [
         "9",
         "2024-02-14 00:00:00",
         "113.06000000",
         "113.0990",
         "0.00010000"
        ],
        [
         "10",
         "2024-02-14 00:00:00",
         "113.06000000",
         "113.0990",
         "0.00010000"
        ],
        [
         "11",
         "2024-02-14 08:00:00",
         "116.88000000",
         "117.0060",
         "0.00010000"
        ],
        [
         "12",
         "2024-02-14 08:00:00",
         "116.88000000",
         "117.0060",
         "0.00010000"
        ],
        [
         "13",
         "2024-02-14 16:00:00",
         "116.97000000",
         "117.0920",
         "0.00029225"
        ],
        [
         "14",
         "2024-02-14 16:00:00",
         "116.97000000",
         "117.0920",
         "0.00029225"
        ],
        [
         "15",
         "2024-02-15 00:00:00",
         "115.01000000",
         "115.1000",
         "0.00013572"
        ],
        [
         "16",
         "2024-02-15 00:00:00",
         "115.01000000",
         "115.1000",
         "0.00013572"
        ],
        [
         "17",
         "2024-02-15 08:00:00",
         "114.05000000",
         "114.1360",
         "0.00015932"
        ],
        [
         "18",
         "2024-02-15 08:00:00",
         "114.05000000",
         "114.1360",
         "0.00015932"
        ],
        [
         "19",
         "2024-02-15 16:00:00",
         "113.50000000",
         "113.5980",
         "0.00012000"
        ],
        [
         "20",
         "2024-02-15 16:00:00",
         "113.50000000",
         "113.5980",
         "0.00012000"
        ],
        [
         "21",
         "2024-02-16 00:00:00",
         "111.48000000",
         "111.5600",
         "0.00022371"
        ],
        [
         "22",
         "2024-02-16 00:00:00",
         "111.48000000",
         "111.5600",
         "0.00022371"
        ],
        [
         "23",
         "2024-02-16 08:00:00",
         "109.67000000",
         "109.7300",
         "0.00032087"
        ],
        [
         "24",
         "2024-02-16 08:00:00",
         "109.67000000",
         "109.7300",
         "0.00032087"
        ],
        [
         "25",
         "2024-02-16 16:00:00",
         "110.33000000",
         "110.3920",
         "0.00016914"
        ],
        [
         "26",
         "2024-02-16 16:00:00",
         "110.33000000",
         "110.3920",
         "0.00016914"
        ],
        [
         "27",
         "2024-02-17 00:00:00",
         "110.34000000",
         "110.4030",
         "0.00017661"
        ],
        [
         "28",
         "2024-02-17 00:00:00",
         "110.34000000",
         "110.4030",
         "0.00017661"
        ],
        [
         "29",
         "2024-02-17 08:00:00",
         "107.20000000",
         "107.2670",
         "0.00042046"
        ],
        [
         "30",
         "2024-02-17 08:00:00",
         "107.20000000",
         "107.2670",
         "0.00042046"
        ],
        [
         "31",
         "2024-02-17 16:00:00",
         "108.92000000",
         "109.0080",
         "0.00028279"
        ],
        [
         "32",
         "2024-02-17 16:00:00",
         "108.92000000",
         "109.0080",
         "0.00028279"
        ],
        [
         "33",
         "2024-02-18 00:00:00",
         "109.23000000",
         "109.3120",
         "0.00022777"
        ],
        [
         "34",
         "2024-02-18 00:00:00",
         "109.23000000",
         "109.3120",
         "0.00022777"
        ],
        [
         "35",
         "2024-02-18 08:00:00",
         "112.32000000",
         "112.4240",
         "0.00019395"
        ],
        [
         "36",
         "2024-02-18 08:00:00",
         "112.32000000",
         "112.4240",
         "0.00019395"
        ],
        [
         "37",
         "2024-02-18 16:00:00",
         "112.24000000",
         "112.3450",
         "0.00022192"
        ],
        [
         "38",
         "2024-02-18 16:00:00",
         "112.24000000",
         "112.3450",
         "0.00022192"
        ],
        [
         "39",
         "2024-02-19 00:00:00",
         "113.22000000",
         "113.2880",
         "0.00030230"
        ],
        [
         "40",
         "2024-02-19 00:00:00",
         "113.22000000",
         "113.2880",
         "0.00030230"
        ],
        [
         "41",
         "2024-02-19 08:00:00",
         "113.69000000",
         "113.7800",
         "0.00029566"
        ],
        [
         "42",
         "2024-02-19 08:00:00",
         "113.69000000",
         "113.7800",
         "0.00029566"
        ],
        [
         "43",
         "2024-02-19 16:00:00",
         "111.53000000",
         "111.6580",
         "0.00031944"
        ],
        [
         "44",
         "2024-02-19 16:00:00",
         "111.53000000",
         "111.6580",
         "0.00031944"
        ],
        [
         "45",
         "2024-02-20 00:00:00",
         "109.42000000",
         "109.5200",
         "0.00047470"
        ],
        [
         "46",
         "2024-02-20 00:00:00",
         "109.42000000",
         "109.5200",
         "0.00047470"
        ],
        [
         "47",
         "2024-02-20 08:00:00",
         "106.62000000",
         "106.6480",
         "0.00029934"
        ],
        [
         "48",
         "2024-02-20 08:00:00",
         "106.62000000",
         "106.6480",
         "0.00029934"
        ],
        [
         "49",
         "2024-02-20 16:00:00",
         "108.31000000",
         "108.4180",
         "0.00031742"
        ]
       ],
       "shape": {
        "columns": 4,
        "rows": 1690
       }
      },
      "text/html": [
       "<div>\n",
       "<style scoped>\n",
       "    .dataframe tbody tr th:only-of-type {\n",
       "        vertical-align: middle;\n",
       "    }\n",
       "\n",
       "    .dataframe tbody tr th {\n",
       "        vertical-align: top;\n",
       "    }\n",
       "\n",
       "    .dataframe thead th {\n",
       "        text-align: right;\n",
       "    }\n",
       "</style>\n",
       "<table border=\"1\" class=\"dataframe\">\n",
       "  <thead>\n",
       "    <tr style=\"text-align: right;\">\n",
       "      <th></th>\n",
       "      <th>timestamp</th>\n",
       "      <th>close_spot</th>\n",
       "      <th>close_futures</th>\n",
       "      <th>funding_rate</th>\n",
       "    </tr>\n",
       "  </thead>\n",
       "  <tbody>\n",
       "    <tr>\n",
       "      <th>0</th>\n",
       "      <td>2024-02-12 08:00:00</td>\n",
       "      <td>108.86000000</td>\n",
       "      <td>108.8340</td>\n",
       "      <td>0.00010000</td>\n",
       "    </tr>\n",
       "    <tr>\n",
       "      <th>1</th>\n",
       "      <td>2024-02-12 16:00:00</td>\n",
       "      <td>111.64000000</td>\n",
       "      <td>111.7370</td>\n",
       "      <td>0.00010000</td>\n",
       "    </tr>\n",
       "    <tr>\n",
       "      <th>2</th>\n",
       "      <td>2024-02-12 16:00:00</td>\n",
       "      <td>111.64000000</td>\n",
       "      <td>111.7370</td>\n",
       "      <td>0.00010000</td>\n",
       "    </tr>\n",
       "    <tr>\n",
       "      <th>3</th>\n",
       "      <td>2024-02-13 00:00:00</td>\n",
       "      <td>114.02000000</td>\n",
       "      <td>114.0870</td>\n",
       "      <td>0.00010000</td>\n",
       "    </tr>\n",
       "    <tr>\n",
       "      <th>4</th>\n",
       "      <td>2024-02-13 00:00:00</td>\n",
       "      <td>114.02000000</td>\n",
       "      <td>114.0870</td>\n",
       "      <td>0.00010000</td>\n",
       "    </tr>\n",
       "    <tr>\n",
       "      <th>...</th>\n",
       "      <td>...</td>\n",
       "      <td>...</td>\n",
       "      <td>...</td>\n",
       "      <td>...</td>\n",
       "    </tr>\n",
       "    <tr>\n",
       "      <th>1685</th>\n",
       "      <td>2025-01-09 16:00:00</td>\n",
       "      <td>184.95000000</td>\n",
       "      <td>184.8800</td>\n",
       "      <td>-0.00001659</td>\n",
       "    </tr>\n",
       "    <tr>\n",
       "      <th>1686</th>\n",
       "      <td>2025-01-09 16:00:00</td>\n",
       "      <td>184.95000000</td>\n",
       "      <td>184.8800</td>\n",
       "      <td>-0.00001659</td>\n",
       "    </tr>\n",
       "    <tr>\n",
       "      <th>1687</th>\n",
       "      <td>2025-01-10 00:00:00</td>\n",
       "      <td>191.78000000</td>\n",
       "      <td>191.6300</td>\n",
       "      <td>0.00000873</td>\n",
       "    </tr>\n",
       "    <tr>\n",
       "      <th>1688</th>\n",
       "      <td>2025-01-10 00:00:00</td>\n",
       "      <td>191.78000000</td>\n",
       "      <td>191.6300</td>\n",
       "      <td>0.00000873</td>\n",
       "    </tr>\n",
       "    <tr>\n",
       "      <th>1689</th>\n",
       "      <td>2025-01-10 08:00:00</td>\n",
       "      <td>187.28000000</td>\n",
       "      <td>187.2000</td>\n",
       "      <td>-0.00007385</td>\n",
       "    </tr>\n",
       "  </tbody>\n",
       "</table>\n",
       "<p>1690 rows × 4 columns</p>\n",
       "</div>"
      ],
      "text/plain": [
       "               timestamp    close_spot close_futures funding_rate\n",
       "0    2024-02-12 08:00:00  108.86000000      108.8340   0.00010000\n",
       "1    2024-02-12 16:00:00  111.64000000      111.7370   0.00010000\n",
       "2    2024-02-12 16:00:00  111.64000000      111.7370   0.00010000\n",
       "3    2024-02-13 00:00:00  114.02000000      114.0870   0.00010000\n",
       "4    2024-02-13 00:00:00  114.02000000      114.0870   0.00010000\n",
       "...                  ...           ...           ...          ...\n",
       "1685 2025-01-09 16:00:00  184.95000000      184.8800  -0.00001659\n",
       "1686 2025-01-09 16:00:00  184.95000000      184.8800  -0.00001659\n",
       "1687 2025-01-10 00:00:00  191.78000000      191.6300   0.00000873\n",
       "1688 2025-01-10 00:00:00  191.78000000      191.6300   0.00000873\n",
       "1689 2025-01-10 08:00:00  187.28000000      187.2000  -0.00007385\n",
       "\n",
       "[1690 rows x 4 columns]"
      ]
     },
     "execution_count": 14,
     "metadata": {},
     "output_type": "execute_result"
    }
   ],
   "source": [
    "final_merged_df"
   ]
  },
  {
   "cell_type": "code",
   "execution_count": 15,
   "metadata": {},
   "outputs": [
    {
     "data": {
      "application/vnd.microsoft.datawrangler.viewer.v0+json": {
       "columns": [
        {
         "name": "index",
         "rawType": "object",
         "type": "string"
        },
        {
         "name": "timestamp",
         "rawType": "object",
         "type": "unknown"
        }
       ],
       "conversionMethod": "pd.DataFrame",
       "ref": "2fe37d8d-156e-41fb-8cf9-47cae58a9c51",
       "rows": [
        [
         "count",
         "1690"
        ],
        [
         "mean",
         "2024-07-24 12:56:14.201183488"
        ],
        [
         "min",
         "2024-02-12 08:00:00"
        ],
        [
         "25%",
         "2024-05-03 10:00:00"
        ],
        [
         "50%",
         "2024-07-22 04:00:00"
        ],
        [
         "75%",
         "2024-10-16 12:00:00"
        ],
        [
         "max",
         "2025-01-10 08:00:00"
        ]
       ],
       "shape": {
        "columns": 1,
        "rows": 7
       }
      },
      "text/html": [
       "<div>\n",
       "<style scoped>\n",
       "    .dataframe tbody tr th:only-of-type {\n",
       "        vertical-align: middle;\n",
       "    }\n",
       "\n",
       "    .dataframe tbody tr th {\n",
       "        vertical-align: top;\n",
       "    }\n",
       "\n",
       "    .dataframe thead th {\n",
       "        text-align: right;\n",
       "    }\n",
       "</style>\n",
       "<table border=\"1\" class=\"dataframe\">\n",
       "  <thead>\n",
       "    <tr style=\"text-align: right;\">\n",
       "      <th></th>\n",
       "      <th>timestamp</th>\n",
       "    </tr>\n",
       "  </thead>\n",
       "  <tbody>\n",
       "    <tr>\n",
       "      <th>count</th>\n",
       "      <td>1690</td>\n",
       "    </tr>\n",
       "    <tr>\n",
       "      <th>mean</th>\n",
       "      <td>2024-07-24 12:56:14.201183488</td>\n",
       "    </tr>\n",
       "    <tr>\n",
       "      <th>min</th>\n",
       "      <td>2024-02-12 08:00:00</td>\n",
       "    </tr>\n",
       "    <tr>\n",
       "      <th>25%</th>\n",
       "      <td>2024-05-03 10:00:00</td>\n",
       "    </tr>\n",
       "    <tr>\n",
       "      <th>50%</th>\n",
       "      <td>2024-07-22 04:00:00</td>\n",
       "    </tr>\n",
       "    <tr>\n",
       "      <th>75%</th>\n",
       "      <td>2024-10-16 12:00:00</td>\n",
       "    </tr>\n",
       "    <tr>\n",
       "      <th>max</th>\n",
       "      <td>2025-01-10 08:00:00</td>\n",
       "    </tr>\n",
       "  </tbody>\n",
       "</table>\n",
       "</div>"
      ],
      "text/plain": [
       "                           timestamp\n",
       "count                           1690\n",
       "mean   2024-07-24 12:56:14.201183488\n",
       "min              2024-02-12 08:00:00\n",
       "25%              2024-05-03 10:00:00\n",
       "50%              2024-07-22 04:00:00\n",
       "75%              2024-10-16 12:00:00\n",
       "max              2025-01-10 08:00:00"
      ]
     },
     "execution_count": 15,
     "metadata": {},
     "output_type": "execute_result"
    }
   ],
   "source": [
    "final_merged_df.describe()"
   ]
  },
  {
   "cell_type": "markdown",
   "metadata": {},
   "source": [
    "### Part 4. Export the data"
   ]
  },
  {
   "cell_type": "code",
   "execution_count": 16,
   "metadata": {},
   "outputs": [
    {
     "name": "stdout",
     "output_type": "stream",
     "text": [
      "Data saved as: dataset/binance_solusdt_data_2025-03-20.csv\n"
     ]
    }
   ],
   "source": [
    "import datetime\n",
    "\n",
    "# Generate a timestamp for uniqueness\n",
    "current_date = datetime.datetime.now().strftime(\"%Y-%m-%d\")  # Format: YYYY-MM-DD\n",
    "\n",
    "# Define the filename dynamically\n",
    "filename = f\"dataset/binance_{symbol_input.lower()}_data_{current_date}.csv\"\n",
    "\n",
    "# Save to CSV\n",
    "final_merged_df.to_csv(filename, index=False)\n",
    "\n",
    "print(f\"Data saved as: {filename}\")"
   ]
  },
  {
   "cell_type": "code",
   "execution_count": 17,
   "metadata": {},
   "outputs": [
    {
     "data": {
      "text/plain": [
       "<bound method NDFrame.head of                 timestamp  close_spot  close_futures  funding_rate\n",
       "0     2024-02-12 08:00:00      108.86        108.834      0.000100\n",
       "1     2024-02-12 16:00:00      111.64        111.737      0.000100\n",
       "2     2024-02-12 16:00:00      111.64        111.737      0.000100\n",
       "3     2024-02-13 00:00:00      114.02        114.087      0.000100\n",
       "4     2024-02-13 00:00:00      114.02        114.087      0.000100\n",
       "...                   ...         ...            ...           ...\n",
       "1685  2025-01-09 16:00:00      184.95        184.880     -0.000017\n",
       "1686  2025-01-09 16:00:00      184.95        184.880     -0.000017\n",
       "1687  2025-01-10 00:00:00      191.78        191.630      0.000009\n",
       "1688  2025-01-10 00:00:00      191.78        191.630      0.000009\n",
       "1689  2025-01-10 08:00:00      187.28        187.200     -0.000074\n",
       "\n",
       "[1690 rows x 4 columns]>"
      ]
     },
     "execution_count": 17,
     "metadata": {},
     "output_type": "execute_result"
    }
   ],
   "source": [
    "df = pd.read_csv(filename)\n",
    "df.head"
   ]
  },
  {
   "cell_type": "markdown",
   "metadata": {},
   "source": [
    "### Part 5. Visualise the data"
   ]
  },
  {
   "cell_type": "code",
   "execution_count": 18,
   "metadata": {},
   "outputs": [
    {
     "name": "stdout",
     "output_type": "stream",
     "text": [
      "Current timestamp type: <class 'str'>\n",
      "After conversion timestamp type: <class 'pandas._libs.tslibs.timestamps.Timestamp'>\n"
     ]
    },
    {
     "data": {
      "image/png": "[encoded data removed]",
      "text/plain": [
       "<Figure size 1200x800 with 2 Axes>"
      ]
     },
     "metadata": {},
     "output_type": "display_data"
    }
   ],
   "source": [
    "import pandas as pd\n",
    "import matplotlib.pyplot as plt\n",
    "import matplotlib.dates as mdates\n",
    "\n",
    "# First, let's check what format your timestamps are currently in\n",
    "print(\"Current timestamp type:\", type(df['timestamp'].iloc[0]))\n",
    "# print(\"First few timestamps:\")\n",
    "# print(df['timestamp'].head())\n",
    "\n",
    "# Convert timestamps to datetime explicitly\n",
    "# If timestamps are strings\n",
    "if df['timestamp'].dtype == 'object':\n",
    "    df['timestamp'] = pd.to_datetime(df['timestamp'], format='%Y-%m-%d %H:%M:%S')\n",
    "# If timestamps are integers (unix timestamp)\n",
    "elif pd.api.types.is_integer_dtype(df['timestamp']):\n",
    "    df['timestamp'] = pd.to_datetime(df['timestamp'], unit='s')\n",
    "\n",
    "# Print to verify conversion worked correctly\n",
    "print(\"After conversion timestamp type:\", type(df['timestamp'].iloc[0]))\n",
    "# print(\"First few timestamps:\")\n",
    "# print(df['timestamp'].head())\n",
    "# print(\"Date range:\", df['timestamp'].min(), \"to\", df['timestamp'].max())\n",
    "\n",
    "# Create a figure with two subplots sharing the x-axis\n",
    "fig, (ax1, ax2) = plt.subplots(2, 1, figsize=(12, 8), sharex=True, gridspec_kw={'height_ratios': [3, 1]})\n",
    "\n",
    "# Plot spot and futures prices on the first subplot\n",
    "ax1.plot(df['timestamp'], df['close_spot'], label='Spot Price', marker='o', linestyle='-', color='blue')\n",
    "ax1.plot(df['timestamp'], df['close_futures'], label='Futures Price', marker='x', linestyle='--', color='red')\n",
    "ax1.set_ylabel('Price')\n",
    "ax1.set_title(f'{symbol_input} Spot vs Futures Prices and Funding Rate')\n",
    "ax1.legend()\n",
    "ax1.grid(True)\n",
    "\n",
    "# Plot funding rate on the second subplot\n",
    "ax2.plot(df['timestamp'], df['funding_rate'], label='Funding Rate', marker='s', linestyle='-', color='green')\n",
    "ax2.set_ylabel('Funding Rate')\n",
    "ax2.set_xlabel('Date')\n",
    "ax2.legend()\n",
    "ax2.grid(True)\n",
    "\n",
    "# Format x-axis to show only dates at the start of each month\n",
    "ax2.xaxis.set_major_formatter(mdates.DateFormatter('%b %Y'))\n",
    "ax2.xaxis.set_major_locator(mdates.MonthLocator())\n",
    "plt.xticks(rotation=45)\n",
    "\n",
    "# Adjust layout\n",
    "plt.tight_layout()\n",
    "\n",
    "# Save the plot\n",
    "plt.savefig('financial_data_plot.png', dpi=300)\n",
    "\n",
    "# Show the plot\n",
    "plt.show()"
   ]
  }
 ],
 "metadata": {
  "kernelspec": {
   "display_name": ".venv",
   "language": "python",
   "name": "python3"
  },
  "language_info": {
   "codemirror_mode": {
    "name": "ipython",
    "version": 3
   },
   "file_extension": ".py",
   "mimetype": "text/x-python",
   "name": "python",
   "nbconvert_exporter": "python",
   "pygments_lexer": "ipython3",
   "version": "3.10.7"
  }
 },
 "nbformat": 4,
 "nbformat_minor": 2
}
